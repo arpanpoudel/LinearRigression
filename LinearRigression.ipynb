{
 "cells": [
  {
   "cell_type": "code",
   "execution_count": 9,
   "metadata": {},
   "outputs": [
    {
     "name": "stdout",
     "output_type": "stream",
     "text": [
      "0.08893651993741346\n",
      "1.4777440851894448\n"
     ]
    }
   ],
   "source": [
    "import numpy as np\n",
    "def compute_error(b,m,points):\n",
    "    totalerror=0\n",
    "    for i in range(0,len(points)):\n",
    "        x=point[i,0]\n",
    "        y=point[i,1]\n",
    "        totalerror+= (y-(m*x+b))**2\n",
    "    return(totalerror/float(len(points)))\n",
    "        \n",
    "def step_gradient(b_current,m_current,point,learningrate):\n",
    "    #gradient descent\n",
    "    b_gradient=0\n",
    "    m_gradient=0\n",
    "    N=float(len(point))\n",
    "    for i in range(0,len(point)):\n",
    "        x=point[i,0]\n",
    "        y=point[i,1]\n",
    "        b_gradient+= -(2/N)*(y-((m_current*x)+b_current))\n",
    "        m_gradient+= -(2/N)*x*(y-((m_current*x)+b_current))\n",
    "    new_b=b_current-(learningrate*b_gradient)\n",
    "    new_m=m_current-(learningrate*m_gradient)\n",
    "    return[new_b,new_m]\n",
    "    \n",
    "    \n",
    "def gradient_descent_runner(point,start_b,start_m,l_rate,n_iter):\n",
    "    b=start_b\n",
    "    m=start_m\n",
    "    for i in range(n_iter):\n",
    "        b,m=step_gradient(b,m,np.array(point),l_rate)\n",
    "    return[b,m]\n",
    "\n",
    "def run():\n",
    "    point=np.genfromtxt(\"data.csv\",delimiter=\",\")\n",
    "    learning_rate=0.0001\n",
    "    # y=mx+b\n",
    "    initial_b=0\n",
    "    initial_m=0\n",
    "    n_iteration=1000\n",
    "    [b,m]=gradient_descent_runner(point,initial_b,initial_m,learning_rate,n_iteration)\n",
    "    print(b)\n",
    "    print(m)\n",
    "    \n",
    "if __name__==\"__main__\" :\n",
    "    run()"
   ]
  }
 ],
 "metadata": {
  "kernelspec": {
   "display_name": "Python 3",
   "language": "python",
   "name": "python3"
  },
  "language_info": {
   "codemirror_mode": {
    "name": "ipython",
    "version": 3
   },
   "file_extension": ".py",
   "mimetype": "text/x-python",
   "name": "python",
   "nbconvert_exporter": "python",
   "pygments_lexer": "ipython3",
   "version": "3.7.3"
  }
 },
 "nbformat": 4,
 "nbformat_minor": 2
}
